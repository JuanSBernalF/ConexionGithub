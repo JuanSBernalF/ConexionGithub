{
  "nbformat": 4,
  "nbformat_minor": 0,
  "metadata": {
    "colab": {
      "provenance": [],
      "authorship_tag": "ABX9TyPdpadl84nMabqUER1Pouhd",
      "include_colab_link": true
    },
    "kernelspec": {
      "name": "ir",
      "display_name": "R"
    },
    "language_info": {
      "name": "R"
    },
    "gpuClass": "standard"
  },
  "cells": [
    {
      "cell_type": "markdown",
      "metadata": {
        "id": "view-in-github",
        "colab_type": "text"
      },
      "source": [
        "<a href=\"https://colab.research.google.com/github/JuanSBernalF/ConexionGithub/blob/main/Taller_2.ipynb\" target=\"_parent\"><img src=\"https://colab.research.google.com/assets/colab-badge.svg\" alt=\"Open In Colab\"/></a>"
      ]
    },
    {
      "cell_type": "markdown",
      "source": [
        "# Taller 2 - Analítica de negocios II\n",
        "\n",
        "Por: Juan Sebastián Bernal Forero\n",
        "\n",
        "**Orden del Documento**:\n",
        "\n",
        "1. En primer lugar, se instalarán las librerias correspondientes para el manejo y análisis de la información. Posteriormente se cargará el archivo y luego se parametrizarán los datos para darles el tratamiento adecuado.\n",
        "\n",
        "2. En segundo lugar, se procederá a dar algunas aclaraciones generales y procedimentales para el desarrollo del ejercicio.\n",
        "\n",
        "3. Por último, se procederá a la realización de las pruebas correspondientes, en relación a las preguntas planteadas para el análisis."
      ],
      "metadata": {
        "id": "irjxvCzebcK5"
      }
    },
    {
      "cell_type": "markdown",
      "source": [
        "###Instalación de librerías"
      ],
      "metadata": {
        "id": "ik4oM3-6blBq"
      }
    },
    {
      "cell_type": "code",
      "execution_count": null,
      "metadata": {
        "colab": {
          "base_uri": "https://localhost:8080/"
        },
        "id": "mkzOWQ8RUF53",
        "outputId": "9780bab3-598f-4dcf-d63f-9bccebac1bf1"
      },
      "outputs": [
        {
          "output_type": "stream",
          "name": "stderr",
          "text": [
            "Installing package into ‘/usr/local/lib/R/site-library’\n",
            "(as ‘lib’ is unspecified)\n",
            "\n"
          ]
        }
      ],
      "source": [
        "install.packages(\"readr\")\n",
        "library(readr)\n",
        "library(tidyverse)"
      ]
    },
    {
      "cell_type": "markdown",
      "source": [
        "###Carga de archivos"
      ],
      "metadata": {
        "id": "gkgw1K2Ibywd"
      }
    },
    {
      "cell_type": "code",
      "source": [
        "wow<-read.csv(\"/content/data_wowAN2-20231S - data_wowAN2.csv\")"
      ],
      "metadata": {
        "id": "CXKnDAH6XoBF"
      },
      "execution_count": null,
      "outputs": []
    },
    {
      "cell_type": "code",
      "source": [
        "head(wow)"
      ],
      "metadata": {
        "colab": {
          "base_uri": "https://localhost:8080/",
          "height": 445
        },
        "id": "_HZ2mQcMYK9d",
        "outputId": "fd2473bc-1418-41ba-856c-3c6614ff1e9d"
      },
      "execution_count": null,
      "outputs": [
        {
          "output_type": "display_data",
          "data": {
            "text/html": [
              "<table class=\"dataframe\">\n",
              "<caption>A data.frame: 6 × 13</caption>\n",
              "<thead>\n",
              "\t<tr><th></th><th scope=col>ID</th><th scope=col>tipoplan</th><th scope=col>churn</th><th scope=col>consumomes</th><th scope=col>Estrato</th><th scope=col>Sexo</th><th scope=col>Edad</th><th scope=col>EstadoCivil</th><th scope=col>Educacion</th><th scope=col>Recomienda</th><th scope=col>rango_antiguedad</th><th scope=col>servicio_adicional</th><th scope=col>gigas_cons</th></tr>\n",
              "\t<tr><th></th><th scope=col>&lt;int&gt;</th><th scope=col>&lt;chr&gt;</th><th scope=col>&lt;int&gt;</th><th scope=col>&lt;chr&gt;</th><th scope=col>&lt;chr&gt;</th><th scope=col>&lt;chr&gt;</th><th scope=col>&lt;chr&gt;</th><th scope=col>&lt;chr&gt;</th><th scope=col>&lt;chr&gt;</th><th scope=col>&lt;chr&gt;</th><th scope=col>&lt;chr&gt;</th><th scope=col>&lt;int&gt;</th><th scope=col>&lt;chr&gt;</th></tr>\n",
              "</thead>\n",
              "<tbody>\n",
              "\t<tr><th scope=row>1</th><td>1</td><td>Empresarial Ejecutivo  </td><td>1</td><td>378.645</td><td>1-2</td><td>Masculino</td><td>Menor a 25</td><td>Soltero/a </td><td>Profesional</td><td>Neutro       </td><td>250+    </td><td>3</td><td>14,3</td></tr>\n",
              "\t<tr><th scope=row>2</th><td>2</td><td>Empresarial Ejecutivo  </td><td>0</td><td>841.333</td><td>1-2</td><td>Masculino</td><td>Menor a 25</td><td>Soltero/a </td><td>Profesional</td><td>Neutro       </td><td>72 - 158</td><td>2</td><td>14,5</td></tr>\n",
              "\t<tr><th scope=row>3</th><td>3</td><td>Prepago                </td><td>1</td><td>861.967</td><td>3-4</td><td>Masculino</td><td>Menor a 25</td><td>Soltero/a </td><td>Técnico    </td><td>No recomienda</td><td>250+    </td><td>3</td><td>10,9</td></tr>\n",
              "\t<tr><th scope=row>4</th><td>4</td><td>Postpago cuenta control</td><td>1</td><td>84.520 </td><td>3-4</td><td>Masculino</td><td>Menor a 25</td><td>Soltero/a </td><td>Técnico    </td><td>No recomienda</td><td>250+    </td><td>4</td><td>19,0</td></tr>\n",
              "\t<tr><th scope=row>5</th><td>5</td><td>Postpago cuenta control</td><td>0</td><td>157.160</td><td>3-4</td><td>Masculino</td><td>Menor a 25</td><td>Separado/a</td><td>Profesional</td><td>Neutro       </td><td>250+    </td><td>1</td><td>13,1</td></tr>\n",
              "\t<tr><th scope=row>6</th><td>6</td><td>Empresarial Ejecutivo  </td><td>1</td><td>104.640</td><td>3-4</td><td>Masculino</td><td>Menor a 25</td><td>Casado/a  </td><td>Profesional</td><td>Recomienda   </td><td>250+    </td><td>4</td><td>24,7</td></tr>\n",
              "</tbody>\n",
              "</table>\n"
            ],
            "text/markdown": "\nA data.frame: 6 × 13\n\n| <!--/--> | ID &lt;int&gt; | tipoplan &lt;chr&gt; | churn &lt;int&gt; | consumomes &lt;chr&gt; | Estrato &lt;chr&gt; | Sexo &lt;chr&gt; | Edad &lt;chr&gt; | EstadoCivil &lt;chr&gt; | Educacion &lt;chr&gt; | Recomienda &lt;chr&gt; | rango_antiguedad &lt;chr&gt; | servicio_adicional &lt;int&gt; | gigas_cons &lt;chr&gt; |\n|---|---|---|---|---|---|---|---|---|---|---|---|---|---|\n| 1 | 1 | Empresarial Ejecutivo   | 1 | 378.645 | 1-2 | Masculino | Menor a 25 | Soltero/a  | Profesional | Neutro        | 250+     | 3 | 14,3 |\n| 2 | 2 | Empresarial Ejecutivo   | 0 | 841.333 | 1-2 | Masculino | Menor a 25 | Soltero/a  | Profesional | Neutro        | 72 - 158 | 2 | 14,5 |\n| 3 | 3 | Prepago                 | 1 | 861.967 | 3-4 | Masculino | Menor a 25 | Soltero/a  | Técnico     | No recomienda | 250+     | 3 | 10,9 |\n| 4 | 4 | Postpago cuenta control | 1 | 84.520  | 3-4 | Masculino | Menor a 25 | Soltero/a  | Técnico     | No recomienda | 250+     | 4 | 19,0 |\n| 5 | 5 | Postpago cuenta control | 0 | 157.160 | 3-4 | Masculino | Menor a 25 | Separado/a | Profesional | Neutro        | 250+     | 1 | 13,1 |\n| 6 | 6 | Empresarial Ejecutivo   | 1 | 104.640 | 3-4 | Masculino | Menor a 25 | Casado/a   | Profesional | Recomienda    | 250+     | 4 | 24,7 |\n\n",
            "text/latex": "A data.frame: 6 × 13\n\\begin{tabular}{r|lllllllllllll}\n  & ID & tipoplan & churn & consumomes & Estrato & Sexo & Edad & EstadoCivil & Educacion & Recomienda & rango\\_antiguedad & servicio\\_adicional & gigas\\_cons\\\\\n  & <int> & <chr> & <int> & <chr> & <chr> & <chr> & <chr> & <chr> & <chr> & <chr> & <chr> & <int> & <chr>\\\\\n\\hline\n\t1 & 1 & Empresarial Ejecutivo   & 1 & 378.645 & 1-2 & Masculino & Menor a 25 & Soltero/a  & Profesional & Neutro        & 250+     & 3 & 14,3\\\\\n\t2 & 2 & Empresarial Ejecutivo   & 0 & 841.333 & 1-2 & Masculino & Menor a 25 & Soltero/a  & Profesional & Neutro        & 72 - 158 & 2 & 14,5\\\\\n\t3 & 3 & Prepago                 & 1 & 861.967 & 3-4 & Masculino & Menor a 25 & Soltero/a  & Técnico     & No recomienda & 250+     & 3 & 10,9\\\\\n\t4 & 4 & Postpago cuenta control & 1 & 84.520  & 3-4 & Masculino & Menor a 25 & Soltero/a  & Técnico     & No recomienda & 250+     & 4 & 19,0\\\\\n\t5 & 5 & Postpago cuenta control & 0 & 157.160 & 3-4 & Masculino & Menor a 25 & Separado/a & Profesional & Neutro        & 250+     & 1 & 13,1\\\\\n\t6 & 6 & Empresarial Ejecutivo   & 1 & 104.640 & 3-4 & Masculino & Menor a 25 & Casado/a   & Profesional & Recomienda    & 250+     & 4 & 24,7\\\\\n\\end{tabular}\n",
            "text/plain": [
              "  ID tipoplan                churn consumomes Estrato Sexo      Edad      \n",
              "1 1  Empresarial Ejecutivo   1     378.645    1-2     Masculino Menor a 25\n",
              "2 2  Empresarial Ejecutivo   0     841.333    1-2     Masculino Menor a 25\n",
              "3 3  Prepago                 1     861.967    3-4     Masculino Menor a 25\n",
              "4 4  Postpago cuenta control 1     84.520     3-4     Masculino Menor a 25\n",
              "5 5  Postpago cuenta control 0     157.160    3-4     Masculino Menor a 25\n",
              "6 6  Empresarial Ejecutivo   1     104.640    3-4     Masculino Menor a 25\n",
              "  EstadoCivil Educacion   Recomienda    rango_antiguedad servicio_adicional\n",
              "1 Soltero/a   Profesional Neutro        250+             3                 \n",
              "2 Soltero/a   Profesional Neutro        72 - 158         2                 \n",
              "3 Soltero/a   Técnico     No recomienda 250+             3                 \n",
              "4 Soltero/a   Técnico     No recomienda 250+             4                 \n",
              "5 Separado/a  Profesional Neutro        250+             1                 \n",
              "6 Casado/a    Profesional Recomienda    250+             4                 \n",
              "  gigas_cons\n",
              "1 14,3      \n",
              "2 14,5      \n",
              "3 10,9      \n",
              "4 19,0      \n",
              "5 13,1      \n",
              "6 24,7      "
            ]
          },
          "metadata": {}
        }
      ]
    },
    {
      "cell_type": "markdown",
      "source": [
        "### Cambios en los tipos de datos"
      ],
      "metadata": {
        "id": "3o24cS-pb9k7"
      }
    },
    {
      "cell_type": "code",
      "source": [
        "#cambiamos de character a numeric poniendo comas en el lugar que teníamos puntos\n",
        "wow$consumomes<-as.numeric(gsub(\",\",\".\", wow$consumomes))"
      ],
      "metadata": {
        "colab": {
          "base_uri": "https://localhost:8080/"
        },
        "id": "Wc_ss7Z6YPrU",
        "outputId": "a00c8b7b-57cf-415f-f4bf-55451258d7d5"
      },
      "execution_count": null,
      "outputs": [
        {
          "output_type": "stream",
          "name": "stderr",
          "text": [
            "Warning message in eval(expr, envir, enclos):\n",
            "“NAs introduced by coercion”\n"
          ]
        }
      ]
    },
    {
      "cell_type": "code",
      "source": [
        "summary(wow$consumomes)"
      ],
      "metadata": {
        "colab": {
          "base_uri": "https://localhost:8080/",
          "height": 52
        },
        "id": "tgX4W_9KaR7w",
        "outputId": "b5d1d39d-a2a2-43a5-c0db-f04bacc0cdd3"
      },
      "execution_count": null,
      "outputs": [
        {
          "output_type": "display_data",
          "data": {
            "text/plain": [
              "   Min. 1st Qu.  Median    Mean 3rd Qu.    Max.    NA's \n",
              "  13.42   96.67  152.85  216.61  246.76  986.93      73 "
            ]
          },
          "metadata": {}
        }
      ]
    },
    {
      "cell_type": "code",
      "source": [
        "wow$gigas_cons<-as.numeric(gsub(\",\",\".\", wow$gigas_cons))\n",
        "summary(wow$gigas_cons)"
      ],
      "metadata": {
        "colab": {
          "base_uri": "https://localhost:8080/",
          "height": 52
        },
        "id": "xxKRmBaAbLH8",
        "outputId": "89009abb-8e7d-49a9-c8a9-4b55b759b64a"
      },
      "execution_count": null,
      "outputs": [
        {
          "output_type": "display_data",
          "data": {
            "text/plain": [
              "   Min. 1st Qu.  Median    Mean 3rd Qu.    Max. \n",
              "   0.00   15.90   19.90   20.17   23.60   99.60 "
            ]
          },
          "metadata": {}
        }
      ]
    },
    {
      "cell_type": "code",
      "source": [],
      "metadata": {
        "id": "WURppJFe2-V-"
      },
      "execution_count": null,
      "outputs": []
    },
    {
      "cell_type": "code",
      "source": [
        "head(wow)"
      ],
      "metadata": {
        "colab": {
          "base_uri": "https://localhost:8080/",
          "height": 445
        },
        "id": "909UpOTlbRfQ",
        "outputId": "73487e71-fe2a-4ffa-df36-82989a43fe8a"
      },
      "execution_count": null,
      "outputs": [
        {
          "output_type": "display_data",
          "data": {
            "text/html": [
              "<table class=\"dataframe\">\n",
              "<caption>A data.frame: 6 × 13</caption>\n",
              "<thead>\n",
              "\t<tr><th></th><th scope=col>ID</th><th scope=col>tipoplan</th><th scope=col>churn</th><th scope=col>consumomes</th><th scope=col>Estrato</th><th scope=col>Sexo</th><th scope=col>Edad</th><th scope=col>EstadoCivil</th><th scope=col>Educacion</th><th scope=col>Recomienda</th><th scope=col>rango_antiguedad</th><th scope=col>servicio_adicional</th><th scope=col>gigas_cons</th></tr>\n",
              "\t<tr><th></th><th scope=col>&lt;int&gt;</th><th scope=col>&lt;chr&gt;</th><th scope=col>&lt;int&gt;</th><th scope=col>&lt;dbl&gt;</th><th scope=col>&lt;chr&gt;</th><th scope=col>&lt;chr&gt;</th><th scope=col>&lt;chr&gt;</th><th scope=col>&lt;chr&gt;</th><th scope=col>&lt;chr&gt;</th><th scope=col>&lt;chr&gt;</th><th scope=col>&lt;chr&gt;</th><th scope=col>&lt;int&gt;</th><th scope=col>&lt;dbl&gt;</th></tr>\n",
              "</thead>\n",
              "<tbody>\n",
              "\t<tr><th scope=row>1</th><td>1</td><td>Empresarial Ejecutivo  </td><td>1</td><td>378.645</td><td>1-2</td><td>Masculino</td><td>Menor a 25</td><td>Soltero/a </td><td>Profesional</td><td>Neutro       </td><td>250+    </td><td>3</td><td>14.3</td></tr>\n",
              "\t<tr><th scope=row>2</th><td>2</td><td>Empresarial Ejecutivo  </td><td>0</td><td>841.333</td><td>1-2</td><td>Masculino</td><td>Menor a 25</td><td>Soltero/a </td><td>Profesional</td><td>Neutro       </td><td>72 - 158</td><td>2</td><td>14.5</td></tr>\n",
              "\t<tr><th scope=row>3</th><td>3</td><td>Prepago                </td><td>1</td><td>861.967</td><td>3-4</td><td>Masculino</td><td>Menor a 25</td><td>Soltero/a </td><td>Técnico    </td><td>No recomienda</td><td>250+    </td><td>3</td><td>10.9</td></tr>\n",
              "\t<tr><th scope=row>4</th><td>4</td><td>Postpago cuenta control</td><td>1</td><td> 84.520</td><td>3-4</td><td>Masculino</td><td>Menor a 25</td><td>Soltero/a </td><td>Técnico    </td><td>No recomienda</td><td>250+    </td><td>4</td><td>19.0</td></tr>\n",
              "\t<tr><th scope=row>5</th><td>5</td><td>Postpago cuenta control</td><td>0</td><td>157.160</td><td>3-4</td><td>Masculino</td><td>Menor a 25</td><td>Separado/a</td><td>Profesional</td><td>Neutro       </td><td>250+    </td><td>1</td><td>13.1</td></tr>\n",
              "\t<tr><th scope=row>6</th><td>6</td><td>Empresarial Ejecutivo  </td><td>1</td><td>104.640</td><td>3-4</td><td>Masculino</td><td>Menor a 25</td><td>Casado/a  </td><td>Profesional</td><td>Recomienda   </td><td>250+    </td><td>4</td><td>24.7</td></tr>\n",
              "</tbody>\n",
              "</table>\n"
            ],
            "text/markdown": "\nA data.frame: 6 × 13\n\n| <!--/--> | ID &lt;int&gt; | tipoplan &lt;chr&gt; | churn &lt;int&gt; | consumomes &lt;dbl&gt; | Estrato &lt;chr&gt; | Sexo &lt;chr&gt; | Edad &lt;chr&gt; | EstadoCivil &lt;chr&gt; | Educacion &lt;chr&gt; | Recomienda &lt;chr&gt; | rango_antiguedad &lt;chr&gt; | servicio_adicional &lt;int&gt; | gigas_cons &lt;dbl&gt; |\n|---|---|---|---|---|---|---|---|---|---|---|---|---|---|\n| 1 | 1 | Empresarial Ejecutivo   | 1 | 378.645 | 1-2 | Masculino | Menor a 25 | Soltero/a  | Profesional | Neutro        | 250+     | 3 | 14.3 |\n| 2 | 2 | Empresarial Ejecutivo   | 0 | 841.333 | 1-2 | Masculino | Menor a 25 | Soltero/a  | Profesional | Neutro        | 72 - 158 | 2 | 14.5 |\n| 3 | 3 | Prepago                 | 1 | 861.967 | 3-4 | Masculino | Menor a 25 | Soltero/a  | Técnico     | No recomienda | 250+     | 3 | 10.9 |\n| 4 | 4 | Postpago cuenta control | 1 |  84.520 | 3-4 | Masculino | Menor a 25 | Soltero/a  | Técnico     | No recomienda | 250+     | 4 | 19.0 |\n| 5 | 5 | Postpago cuenta control | 0 | 157.160 | 3-4 | Masculino | Menor a 25 | Separado/a | Profesional | Neutro        | 250+     | 1 | 13.1 |\n| 6 | 6 | Empresarial Ejecutivo   | 1 | 104.640 | 3-4 | Masculino | Menor a 25 | Casado/a   | Profesional | Recomienda    | 250+     | 4 | 24.7 |\n\n",
            "text/latex": "A data.frame: 6 × 13\n\\begin{tabular}{r|lllllllllllll}\n  & ID & tipoplan & churn & consumomes & Estrato & Sexo & Edad & EstadoCivil & Educacion & Recomienda & rango\\_antiguedad & servicio\\_adicional & gigas\\_cons\\\\\n  & <int> & <chr> & <int> & <dbl> & <chr> & <chr> & <chr> & <chr> & <chr> & <chr> & <chr> & <int> & <dbl>\\\\\n\\hline\n\t1 & 1 & Empresarial Ejecutivo   & 1 & 378.645 & 1-2 & Masculino & Menor a 25 & Soltero/a  & Profesional & Neutro        & 250+     & 3 & 14.3\\\\\n\t2 & 2 & Empresarial Ejecutivo   & 0 & 841.333 & 1-2 & Masculino & Menor a 25 & Soltero/a  & Profesional & Neutro        & 72 - 158 & 2 & 14.5\\\\\n\t3 & 3 & Prepago                 & 1 & 861.967 & 3-4 & Masculino & Menor a 25 & Soltero/a  & Técnico     & No recomienda & 250+     & 3 & 10.9\\\\\n\t4 & 4 & Postpago cuenta control & 1 &  84.520 & 3-4 & Masculino & Menor a 25 & Soltero/a  & Técnico     & No recomienda & 250+     & 4 & 19.0\\\\\n\t5 & 5 & Postpago cuenta control & 0 & 157.160 & 3-4 & Masculino & Menor a 25 & Separado/a & Profesional & Neutro        & 250+     & 1 & 13.1\\\\\n\t6 & 6 & Empresarial Ejecutivo   & 1 & 104.640 & 3-4 & Masculino & Menor a 25 & Casado/a   & Profesional & Recomienda    & 250+     & 4 & 24.7\\\\\n\\end{tabular}\n",
            "text/plain": [
              "  ID tipoplan                churn consumomes Estrato Sexo      Edad      \n",
              "1 1  Empresarial Ejecutivo   1     378.645    1-2     Masculino Menor a 25\n",
              "2 2  Empresarial Ejecutivo   0     841.333    1-2     Masculino Menor a 25\n",
              "3 3  Prepago                 1     861.967    3-4     Masculino Menor a 25\n",
              "4 4  Postpago cuenta control 1      84.520    3-4     Masculino Menor a 25\n",
              "5 5  Postpago cuenta control 0     157.160    3-4     Masculino Menor a 25\n",
              "6 6  Empresarial Ejecutivo   1     104.640    3-4     Masculino Menor a 25\n",
              "  EstadoCivil Educacion   Recomienda    rango_antiguedad servicio_adicional\n",
              "1 Soltero/a   Profesional Neutro        250+             3                 \n",
              "2 Soltero/a   Profesional Neutro        72 - 158         2                 \n",
              "3 Soltero/a   Técnico     No recomienda 250+             3                 \n",
              "4 Soltero/a   Técnico     No recomienda 250+             4                 \n",
              "5 Separado/a  Profesional Neutro        250+             1                 \n",
              "6 Casado/a    Profesional Recomienda    250+             4                 \n",
              "  gigas_cons\n",
              "1 14.3      \n",
              "2 14.5      \n",
              "3 10.9      \n",
              "4 19.0      \n",
              "5 13.1      \n",
              "6 24.7      "
            ]
          },
          "metadata": {}
        }
      ]
    },
    {
      "cell_type": "markdown",
      "source": [
        "## Punto 1. ¿Cómo podría explicarse el consumo mensual mediante las gigas consumidas del plan y los servicios adicionales contratados?"
      ],
      "metadata": {
        "id": "4cmoilpwdJ7P"
      }
    },
    {
      "cell_type": "markdown",
      "source": [
        "\n",
        "Nuestro objetivo será estimar un modelo que permita explicar el consumo de los usuarios en función de las gigas consumidas en el plan y de los servicios adicionales contratados\n",
        "\n",
        "Para el desarrollo de este punto estimaremos un modelo por medio de una regresion de tipo lineal simple y, posteriormente, avanzaremos realizando iteraciones en las cuales se transformarán las variables a logarítmos, planteando así modelos de tipo lin-log, log-log y log-lin, con el objetivo de encontrar el mejor modelo posible que explique mejor el consumo de los usuarios en función de las gigas consumidas y los servicios adicionales contratados. Para ello, nos basaremos en la metodología **Box Jenkins** que consiste en:\n",
        "\n",
        "1) Identificación\n",
        "\n",
        "2) Estimación\n",
        "\n",
        "3) Diagnóstico.\n",
        "\n",
        "1. Identificación\n",
        "\n",
        "**a. Formular la FRP:**\n",
        "\n",
        "> $Y=β_0+β_1X_1+β_2X_2+β_3X_3+ .... +β_kX_k+ε$\n",
        "\n",
        "es decir:\n",
        "\n",
        "> $Consumomes $$=β_0+β_1(gigas\\_cons)+β_2(servicio\\_adicional)+ .... +β_kX_k+ε$\n",
        "\n",
        "**b. Formular la FRM**\n",
        "\n",
        "> $Consumomes $$(y^*)=β_0^*+β_1^*(gigas\\_cons)+β_2^*(servicio\\_adicional)+ .... +β_kX_k+e$\n",
        "\n",
        "\n"
      ],
      "metadata": {
        "id": "sWXu92iDA4R7"
      }
    },
    {
      "cell_type": "markdown",
      "source": [
        "##Estimación del punto 1\n",
        "\n",
        "Calcular el  β∗  ------> min( e )"
      ],
      "metadata": {
        "id": "G-2DhMMtd6_d"
      }
    },
    {
      "cell_type": "code",
      "source": [
        "modregconsum<-lm(consumomes~gigas_cons+servicio_adicional,data=wow)\n",
        "summary(modregconsum)"
      ],
      "metadata": {
        "colab": {
          "base_uri": "https://localhost:8080/",
          "height": 364
        },
        "id": "7Pdtp2h7bqOh",
        "outputId": "f54d5a83-e7fd-4d01-a437-1fc1e816485f"
      },
      "execution_count": null,
      "outputs": [
        {
          "output_type": "display_data",
          "data": {
            "text/plain": [
              "\n",
              "Call:\n",
              "lm(formula = consumomes ~ gigas_cons + servicio_adicional, data = wow)\n",
              "\n",
              "Residuals:\n",
              "    Min      1Q  Median      3Q     Max \n",
              "-251.14 -121.37  -61.70   40.33  798.60 \n",
              "\n",
              "Coefficients:\n",
              "                   Estimate Std. Error t value Pr(>|t|)    \n",
              "(Intercept)        128.5784    12.0704   10.65   <2e-16 ***\n",
              "gigas_cons          -0.1964     0.3776   -0.52    0.603    \n",
              "servicio_adicional  39.4524     3.6060   10.94   <2e-16 ***\n",
              "---\n",
              "Signif. codes:  0 ‘***’ 0.001 ‘**’ 0.01 ‘*’ 0.05 ‘.’ 0.1 ‘ ’ 1\n",
              "\n",
              "Residual standard error: 189.8 on 1769 degrees of freedom\n",
              "  (73 observations deleted due to missingness)\n",
              "Multiple R-squared:  0.0634,\tAdjusted R-squared:  0.06234 \n",
              "F-statistic: 59.88 on 2 and 1769 DF,  p-value: < 2.2e-16\n"
            ]
          },
          "metadata": {}
        }
      ]
    },
    {
      "cell_type": "markdown",
      "source": [
        "###Diagnóstico primera iteración.\n",
        "####Significancia Global\n",
        "La prueba de significancia global \"F-statistic\" sugiere, para este modelo, que el p-value es menor que alfa, de modo que, el modelo ajusta los datos.\n",
        "####Significancia Individual\n",
        "La prueba sugiere que tanto el intercepto como la variale servicios adicionales aportan al modelo, sin embargo, la variable sobre el numero de gigas consumidas no aporta al modelo. Por lo tanto, vamos a transformar la variable gigas_cons y, en caso de no aportar en la explicación del consumo, será eliminada.\n",
        "####Coeficiente de determinación R cuadrado\n",
        "El R cuadrado tiene un valor de 0,063. Es un modelo aceptable, porque explica el consumo mediante las gigas y servicios adicionales en un 6,3% de su variabilidad, el restante 93,8% de variabilidad explicada corresponde al error (factores no medidos y no observados)\n",
        "\n",
        "Por su parte el R cuadrado ajustado sugiere que el modelo no incluye información irrelevante, pues la diferencia con el R cuadrado es del 0,001, es decir, del 0,1%."
      ],
      "metadata": {
        "id": "ordkFCrWhQYL"
      }
    },
    {
      "cell_type": "markdown",
      "source": [
        "### Transformación por Logarítmos\n",
        "\n",
        "1). Log-Log: transformación tanto de Y como de X\n",
        "\n",
        "  Log($Y)=β_0+β_1(log(X_1))+β_2(log(X_2))+β_3(log(X_3))+ .... +β_kX_k+ε$\n",
        "\n",
        "2). Log-Lin: Transformación de Y manteniendo X lineal\n",
        "\n",
        "Log($Y)=β_0+β_1X_1+β_2X_2+β_3X_3+ .... +β_kX_k+ε$\n",
        "\n",
        "3). Lin-Log: Mantener Y lineal y Transformar X\n",
        "    \n",
        "$Y=β_0+β_1(log(X_1))+β_2(log(X_2))+β_3(log(X_3))+ .... +β_kX_k+ε$"
      ],
      "metadata": {
        "id": "ybZKwVPIk46-"
      }
    },
    {
      "cell_type": "markdown",
      "source": [
        "##Iteración#2 LOG-LOG\n",
        "Vamos a estimar el modelo 1 transformando las variables en log-log, para ello primero transformamos las variables en logaritmos naturales.\n",
        "\n"
      ],
      "metadata": {
        "id": "nS9_-4mwoHgs"
      }
    },
    {
      "cell_type": "code",
      "source": [
        "wow$logconsumo<-log(wow$consumomes)\n",
        "wow$logservicios<-log(wow$servicio_adicional)\n",
        "wow$loggigas<-log(wow$gigas_cons)\n"
      ],
      "metadata": {
        "id": "fsTB5AO2mTFo"
      },
      "execution_count": null,
      "outputs": []
    },
    {
      "cell_type": "code",
      "source": [
        "#necesitamos eliminar los NA´s\n",
        "wow<-drop_na(wow)\n",
        "wow_consum = na.exclude(wow$consumomes)"
      ],
      "metadata": {
        "id": "-CMkddSeG25S"
      },
      "execution_count": null,
      "outputs": []
    },
    {
      "cell_type": "code",
      "source": [
        "wow_pos<-subset(wow, loggigas>0, select=c(logconsumo, loggigas, logservicios))\n",
        "mod2_loglogconsum<-lm(logconsumo~loggigas + logservicios, data=wow_pos)\n",
        "summary(mod2_loglogconsum)\n"
      ],
      "metadata": {
        "id": "7ECc0F4BtQt-",
        "colab": {
          "base_uri": "https://localhost:8080/",
          "height": 347
        },
        "outputId": "fe085a72-4bee-40b5-a392-a25def75f40d"
      },
      "execution_count": null,
      "outputs": [
        {
          "output_type": "display_data",
          "data": {
            "text/plain": [
              "\n",
              "Call:\n",
              "lm(formula = logconsumo ~ loggigas + logservicios, data = wow_pos)\n",
              "\n",
              "Residuals:\n",
              "     Min       1Q   Median       3Q      Max \n",
              "-2.19716 -0.54210 -0.06045  0.48448  2.06502 \n",
              "\n",
              "Coefficients:\n",
              "             Estimate Std. Error t value Pr(>|t|)    \n",
              "(Intercept)   4.87171    0.07675  63.476   <2e-16 ***\n",
              "loggigas     -0.02536    0.02572  -0.986    0.324    \n",
              "logservicios  0.38320    0.03012  12.724   <2e-16 ***\n",
              "---\n",
              "Signif. codes:  0 ‘***’ 0.001 ‘**’ 0.01 ‘*’ 0.05 ‘.’ 0.1 ‘ ’ 1\n",
              "\n",
              "Residual standard error: 0.7609 on 1755 degrees of freedom\n",
              "Multiple R-squared:  0.08448,\tAdjusted R-squared:  0.08344 \n",
              "F-statistic: 80.98 on 2 and 1755 DF,  p-value: < 2.2e-16\n"
            ]
          },
          "metadata": {}
        }
      ]
    },
    {
      "cell_type": "markdown",
      "source": [
        "## Iteración 3 modelo lin-log"
      ],
      "metadata": {
        "id": "tT89IDuCMib5"
      }
    },
    {
      "cell_type": "code",
      "source": [
        "wow_linlog<-subset(wow, loggigas>0, select=c(consumomes, loggigas, logservicios))\n",
        "mod3_linlogconsum<-lm(consumomes ~ loggigas+logservicios, data=wow_linlog)\n",
        "summary(mod3_linlogconsum)"
      ],
      "metadata": {
        "id": "Ojz1AyP3ou2d",
        "colab": {
          "base_uri": "https://localhost:8080/",
          "height": 347
        },
        "outputId": "b895ae86-1f37-4595-9fe6-7fac27930627"
      },
      "execution_count": null,
      "outputs": [
        {
          "output_type": "display_data",
          "data": {
            "text/plain": [
              "\n",
              "Call:\n",
              "lm(formula = consumomes ~ loggigas + logservicios, data = wow_linlog)\n",
              "\n",
              "Residuals:\n",
              "    Min      1Q  Median      3Q     Max \n",
              "-238.86 -121.82  -62.12   40.22  801.76 \n",
              "\n",
              "Coefficients:\n",
              "             Estimate Std. Error t value Pr(>|t|)    \n",
              "(Intercept)   165.875     19.208   8.636   <2e-16 ***\n",
              "loggigas       -1.400      6.436  -0.218    0.828    \n",
              "logservicios   81.328      7.538  10.790   <2e-16 ***\n",
              "---\n",
              "Signif. codes:  0 ‘***’ 0.001 ‘**’ 0.01 ‘*’ 0.05 ‘.’ 0.1 ‘ ’ 1\n",
              "\n",
              "Residual standard error: 190.4 on 1755 degrees of freedom\n",
              "Multiple R-squared:  0.06229,\tAdjusted R-squared:  0.06122 \n",
              "F-statistic: 58.29 on 2 and 1755 DF,  p-value: < 2.2e-16\n"
            ]
          },
          "metadata": {}
        }
      ]
    },
    {
      "cell_type": "markdown",
      "source": [
        "## Iteración 4 LOGLIN"
      ],
      "metadata": {
        "id": "XaOnBsu-Q3W8"
      }
    },
    {
      "cell_type": "code",
      "source": [
        "wow_loglin<-subset(wow, select=c(logconsumo, gigas_cons, servicio_adicional))\n",
        "mod4_loglinconsum<-lm(logconsumo ~ gigas_cons+servicio_adicional, data=wow_loglin)\n",
        "summary(mod4_loglinconsum)"
      ],
      "metadata": {
        "colab": {
          "base_uri": "https://localhost:8080/",
          "height": 347
        },
        "id": "oO34kHYmQWmT",
        "outputId": "0b69e9ad-939b-43e0-f15e-21459425d152"
      },
      "execution_count": null,
      "outputs": [
        {
          "output_type": "display_data",
          "data": {
            "text/plain": [
              "\n",
              "Call:\n",
              "lm(formula = logconsumo ~ gigas_cons + servicio_adicional, data = wow_loglin)\n",
              "\n",
              "Residuals:\n",
              "     Min       1Q   Median       3Q      Max \n",
              "-2.21474 -0.53669 -0.05606  0.49110  2.04663 \n",
              "\n",
              "Coefficients:\n",
              "                    Estimate Std. Error t value Pr(>|t|)    \n",
              "(Intercept)         4.661871   0.048367  96.386   <2e-16 ***\n",
              "gigas_cons         -0.001583   0.001513  -1.047    0.295    \n",
              "servicio_adicional  0.183662   0.014449  12.711   <2e-16 ***\n",
              "---\n",
              "Signif. codes:  0 ‘***’ 0.001 ‘**’ 0.01 ‘*’ 0.05 ‘.’ 0.1 ‘ ’ 1\n",
              "\n",
              "Residual standard error: 0.7606 on 1769 degrees of freedom\n",
              "Multiple R-squared:  0.08392,\tAdjusted R-squared:  0.08289 \n",
              "F-statistic: 81.03 on 2 and 1769 DF,  p-value: < 2.2e-16\n"
            ]
          },
          "metadata": {}
        }
      ]
    },
    {
      "cell_type": "markdown",
      "source": [],
      "metadata": {
        "id": "32kmLCMrWMXl"
      }
    },
    {
      "cell_type": "markdown",
      "source": [
        "##Diagnóstico iteraciones 2, 3, 4 y 5.\n",
        "\n",
        "![4 iteraciones.png](data:image/png;base64,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)"
      ],
      "metadata": {
        "id": "bU45iTzuWAxc"
      }
    },
    {
      "cell_type": "markdown",
      "source": [
        "###Diagnósticos Básicos\n",
        "####Significancia Global\n",
        "La prueba de significancia global \"F-statistic\" sugiere, para estos modelos, que el p-value es menor que alfa, de modo que, los modelos ajustan los datos.\n",
        "####Significancia Individual\n",
        "Las pruebas realizadas en las diferentes iteraciones sugieren que la variale servicios adicionales es la única que aporta al modelo. Pues se evidenció que a pesar de haber realizado las transformaciones correspondientes, usando logarítmos, la variable gigas_cons sigue sin aportar al modelo.\n",
        "####Coeficiente de determinación R cuadrado\n",
        "El modelo que nos generó un mejor coeficiente de determinación fue el realizado en la iteración 2 transformando tanto la variable dependiente y las independientes en logarítmos. Éste, explica el consumo mediante las gigas y servicios adicionales en un 8,4% de su variabilidad, el restante 91,6% de variabilidad explicada corresponde al error (factores no medidos y no observados).\n",
        "\n",
        "Por su parte el R cuadrado ajustado sugiere que los modelos no incluyen información irrelevante, pues en promedio la diferencia con el R cuadrado es del 0,001, es decir, del 0,1%."
      ],
      "metadata": {
        "id": "xhDJj1UsWuPH"
      }
    },
    {
      "cell_type": "markdown",
      "source": [
        "## Iteraciones sin gigas\n",
        "\n",
        "**Vamos a mejorar el modelo usando el criterio de Parsimonia, de modo que, eliminaremos la variable gigas_cons del modelo pues, gracias a las pruebas de significancia individual realizadas, pudimos notar que la variable no aporta significativamente a nuestro modelo.**"
      ],
      "metadata": {
        "id": "PZY6704MkQ0T"
      }
    },
    {
      "cell_type": "markdown",
      "source": [
        "##Iteración 5 Lin-Lin sin gigas\n"
      ],
      "metadata": {
        "id": "xdaxvy8YS5w4"
      }
    },
    {
      "cell_type": "code",
      "source": [
        "mod5_linlinconsum<-lm(consumomes~+servicio_adicional,data=wow)\n",
        "summary(mod5_linlinconsum)"
      ],
      "metadata": {
        "colab": {
          "base_uri": "https://localhost:8080/",
          "height": 329
        },
        "id": "GJ9o1PTIS-7H",
        "outputId": "0ed4ab98-0b26-4412-8165-96542371d44f"
      },
      "execution_count": null,
      "outputs": [
        {
          "output_type": "display_data",
          "data": {
            "text/plain": [
              "\n",
              "Call:\n",
              "lm(formula = consumomes ~ +servicio_adicional, data = wow)\n",
              "\n",
              "Residuals:\n",
              "    Min      1Q  Median      3Q     Max \n",
              "-247.13 -120.76  -62.92   39.84  799.88 \n",
              "\n",
              "Coefficients:\n",
              "                   Estimate Std. Error t value Pr(>|t|)    \n",
              "(Intercept)         124.731      9.537   13.08   <2e-16 ***\n",
              "servicio_adicional   39.402      3.604   10.93   <2e-16 ***\n",
              "---\n",
              "Signif. codes:  0 ‘***’ 0.001 ‘**’ 0.01 ‘*’ 0.05 ‘.’ 0.1 ‘ ’ 1\n",
              "\n",
              "Residual standard error: 189.8 on 1770 degrees of freedom\n",
              "Multiple R-squared:  0.06326,\tAdjusted R-squared:  0.06273 \n",
              "F-statistic: 119.5 on 1 and 1770 DF,  p-value: < 2.2e-16\n"
            ]
          },
          "metadata": {}
        }
      ]
    },
    {
      "cell_type": "markdown",
      "source": [
        "##Iteración 6 Log-Log Sin Gigas"
      ],
      "metadata": {
        "id": "mmjamRKOTOel"
      }
    },
    {
      "cell_type": "code",
      "source": [
        "mod6_loglogconsum<-lm(logconsumo~logservicios, data=wow_pos)\n",
        "summary(mod6_loglogconsum)"
      ],
      "metadata": {
        "colab": {
          "base_uri": "https://localhost:8080/",
          "height": 329
        },
        "id": "svXGuYj8TL_g",
        "outputId": "b818a9e5-966e-4d4a-a8af-364f28920d9f"
      },
      "execution_count": null,
      "outputs": [
        {
          "output_type": "display_data",
          "data": {
            "text/plain": [
              "\n",
              "Call:\n",
              "lm(formula = logconsumo ~ logservicios, data = wow_pos)\n",
              "\n",
              "Residuals:\n",
              "     Min       1Q   Median       3Q      Max \n",
              "-2.20421 -0.53833 -0.05162  0.47894  2.07015 \n",
              "\n",
              "Coefficients:\n",
              "             Estimate Std. Error t value Pr(>|t|)    \n",
              "(Intercept)   4.80096    0.02726  176.13   <2e-16 ***\n",
              "logservicios  0.38147    0.03007   12.69   <2e-16 ***\n",
              "---\n",
              "Signif. codes:  0 ‘***’ 0.001 ‘**’ 0.01 ‘*’ 0.05 ‘.’ 0.1 ‘ ’ 1\n",
              "\n",
              "Residual standard error: 0.7609 on 1756 degrees of freedom\n",
              "Multiple R-squared:  0.08398,\tAdjusted R-squared:  0.08345 \n",
              "F-statistic:   161 on 1 and 1756 DF,  p-value: < 2.2e-16\n"
            ]
          },
          "metadata": {}
        }
      ]
    },
    {
      "cell_type": "markdown",
      "source": [
        "##Iteración 7 Lin-Log Sin Gigas\n",
        "\n",
        "\n",
        "\n"
      ],
      "metadata": {
        "id": "Cckt41abT1PR"
      }
    },
    {
      "cell_type": "code",
      "source": [
        "mod7_linlogconsum<-lm(consumomes~logservicios, data=wow_linlog)\n",
        "summary(mod7_linlogconsum)"
      ],
      "metadata": {
        "colab": {
          "base_uri": "https://localhost:8080/",
          "height": 329
        },
        "id": "v3j6bM_QTxHl",
        "outputId": "3b5f16cc-b545-4f8f-992a-c3baa48ab592"
      },
      "execution_count": null,
      "outputs": [
        {
          "output_type": "display_data",
          "data": {
            "text/plain": [
              "\n",
              "Call:\n",
              "lm(formula = consumomes ~ logservicios, data = wow_linlog)\n",
              "\n",
              "Residuals:\n",
              "    Min      1Q  Median      3Q     Max \n",
              "-238.82 -121.96  -62.03   40.33  802.04 \n",
              "\n",
              "Coefficients:\n",
              "             Estimate Std. Error t value Pr(>|t|)    \n",
              "(Intercept)   161.969      6.820   23.75   <2e-16 ***\n",
              "logservicios   81.233      7.523   10.80   <2e-16 ***\n",
              "---\n",
              "Signif. codes:  0 ‘***’ 0.001 ‘**’ 0.01 ‘*’ 0.05 ‘.’ 0.1 ‘ ’ 1\n",
              "\n",
              "Residual standard error: 190.4 on 1756 degrees of freedom\n",
              "Multiple R-squared:  0.06227,\tAdjusted R-squared:  0.06173 \n",
              "F-statistic: 116.6 on 1 and 1756 DF,  p-value: < 2.2e-16\n"
            ]
          },
          "metadata": {}
        }
      ]
    },
    {
      "cell_type": "markdown",
      "source": [
        "##Iteración 8 Log-Lin Sin Gigas\n"
      ],
      "metadata": {
        "id": "MsbAraw1Uanc"
      }
    },
    {
      "cell_type": "code",
      "source": [
        "mod8_loglinconsum<-lm(logconsumo~servicio_adicional, data=wow_loglin)\n",
        "summary(mod8_loglinconsum)"
      ],
      "metadata": {
        "colab": {
          "base_uri": "https://localhost:8080/",
          "height": 329
        },
        "id": "6xG-ksRUURDP",
        "outputId": "f4d4f5a5-0a0a-40d2-ac75-15fc1cc2011e"
      },
      "execution_count": null,
      "outputs": [
        {
          "output_type": "display_data",
          "data": {
            "text/plain": [
              "\n",
              "Call:\n",
              "lm(formula = logconsumo ~ servicio_adicional, data = wow_loglin)\n",
              "\n",
              "Residuals:\n",
              "     Min       1Q   Median       3Q      Max \n",
              "-2.21736 -0.53196 -0.05016  0.48865  2.05700 \n",
              "\n",
              "Coefficients:\n",
              "                   Estimate Std. Error t value Pr(>|t|)    \n",
              "(Intercept)         4.63085    0.03822  121.15   <2e-16 ***\n",
              "servicio_adicional  0.18326    0.01444   12.69   <2e-16 ***\n",
              "---\n",
              "Signif. codes:  0 ‘***’ 0.001 ‘**’ 0.01 ‘*’ 0.05 ‘.’ 0.1 ‘ ’ 1\n",
              "\n",
              "Residual standard error: 0.7606 on 1770 degrees of freedom\n",
              "Multiple R-squared:  0.08336,\tAdjusted R-squared:  0.08284 \n",
              "F-statistic:   161 on 1 and 1770 DF,  p-value: < 2.2e-16\n"
            ]
          },
          "metadata": {}
        }
      ]
    },
    {
      "cell_type": "markdown",
      "source": [
        "## Diagnóstico Iteraciones 5, 6, 7 y 8.\n",
        "![8 iteraciones.png](data:image/png;base64,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)"
      ],
      "metadata": {
        "id": "BI82mMiCv58m"
      }
    },
    {
      "cell_type": "markdown",
      "source": [
        "###Diagnósticos básicos\n",
        "####Significancia Global\n",
        "La prueba de significancia global \"F-statistic\" sugiere, para estos modelos, que el p-value es menor que alfa, de modo que, los modelos ajustan los datos.\n",
        "####Significancia Individual\n",
        "Las pruebas realizadas en las diferentes iteraciones, al igual que en los puntos anteriores, muestran que la variable servicios adicionales aporta al modelo. Pues, el p-valor con un valor de <2e-16,  es menor que el nivel asignado al estadístico de contraste de 0.05, por tanto rechazamos la hipótesis nula \"la variable no aporta al modelo\" y concluímos que la variable sí aporta al modelo.\n",
        "####Coeficiente de determinación R cuadrado\n",
        "Los modelos que nos generaron un mejor coeficiente de determinación siguiendo el criterio de Parsimonia fueron los realizados en las iteraciones 6 y 8, en los que usamos transformaciones Log-Log y Log-Lin respectivamente. Es interesante ver que ambos presentaron valores bastante similares en la prueba\n",
        "explicando  el consumo mediante los servicios adicionales en un 8,39% y 8,33% de su variabilidad, los restantes 91,61 y 91,67% de variabilidad explicada corresponde al error (factores no medidos y no observados).\n",
        "\n",
        "Por su parte el R cuadrado ajustado sugiere que los modelos no incluyen información irrelevante, pues en promedio la diferencia con el R cuadrado es del 0,001, es decir, del 0,1%."
      ],
      "metadata": {
        "id": "sHiTHwJ3tiog"
      }
    },
    {
      "cell_type": "markdown",
      "source": [
        "## Punto 2. ¿Es posible obtener un cálculo de la variación porcentual (elasticidad) del consumo por el aumento en el consumo de gigas adicionales y los servicios adicionales?\n",
        "\n",
        "Para el desarrollo de este punto podremos usar las iteraciones numero 2 y 4 de nuestro taller, en las cuales, podremos contrastar el efecto de las variaciones en las variables independientes sobre el comportamiento de nuestra variable objetivo. Usaremos las iteraciones 2 y 4 puesto que en ellas hemos realizado transformaciones a las variables para crear modelos LOG-LOG y LOG-LIN respectivamente, lo cual, nos permitirá calcular la variación porcentual del consumo por el aumento en las variables \"gigas_cons\" y \"servicio_adicional\".\n",
        "\n"
      ],
      "metadata": {
        "id": "Tgv7TVFoxss_"
      }
    },
    {
      "cell_type": "code",
      "source": [
        "#Iteración 2\n",
        "mod2_loglogconsum<-lm(logconsumo~loggigas + logservicios, data=wow_pos)\n",
        "summary(mod2_loglogconsum)\n",
        "#Iteración 4\n",
        "mod4_loglinconsum<-lm(logconsumo ~ gigas_cons+servicio_adicional, data=wow_loglin)\n",
        "summary(mod4_loglinconsum)\n",
        "\n"
      ],
      "metadata": {
        "colab": {
          "base_uri": "https://localhost:8080/",
          "height": 676
        },
        "id": "vXg9iywBoVxs",
        "outputId": "f2cb68d2-82e0-48fa-f5b2-c693d8585479"
      },
      "execution_count": null,
      "outputs": [
        {
          "output_type": "display_data",
          "data": {
            "text/plain": [
              "\n",
              "Call:\n",
              "lm(formula = logconsumo ~ loggigas + logservicios, data = wow_pos)\n",
              "\n",
              "Residuals:\n",
              "     Min       1Q   Median       3Q      Max \n",
              "-2.19716 -0.54210 -0.06045  0.48448  2.06502 \n",
              "\n",
              "Coefficients:\n",
              "             Estimate Std. Error t value Pr(>|t|)    \n",
              "(Intercept)   4.87171    0.07675  63.476   <2e-16 ***\n",
              "loggigas     -0.02536    0.02572  -0.986    0.324    \n",
              "logservicios  0.38320    0.03012  12.724   <2e-16 ***\n",
              "---\n",
              "Signif. codes:  0 ‘***’ 0.001 ‘**’ 0.01 ‘*’ 0.05 ‘.’ 0.1 ‘ ’ 1\n",
              "\n",
              "Residual standard error: 0.7609 on 1755 degrees of freedom\n",
              "Multiple R-squared:  0.08448,\tAdjusted R-squared:  0.08344 \n",
              "F-statistic: 80.98 on 2 and 1755 DF,  p-value: < 2.2e-16\n"
            ]
          },
          "metadata": {}
        },
        {
          "output_type": "display_data",
          "data": {
            "text/plain": [
              "\n",
              "Call:\n",
              "lm(formula = logconsumo ~ gigas_cons + servicio_adicional, data = wow_loglin)\n",
              "\n",
              "Residuals:\n",
              "     Min       1Q   Median       3Q      Max \n",
              "-2.21474 -0.53669 -0.05606  0.49110  2.04663 \n",
              "\n",
              "Coefficients:\n",
              "                    Estimate Std. Error t value Pr(>|t|)    \n",
              "(Intercept)         4.661871   0.048367  96.386   <2e-16 ***\n",
              "gigas_cons         -0.001583   0.001513  -1.047    0.295    \n",
              "servicio_adicional  0.183662   0.014449  12.711   <2e-16 ***\n",
              "---\n",
              "Signif. codes:  0 ‘***’ 0.001 ‘**’ 0.01 ‘*’ 0.05 ‘.’ 0.1 ‘ ’ 1\n",
              "\n",
              "Residual standard error: 0.7606 on 1769 degrees of freedom\n",
              "Multiple R-squared:  0.08392,\tAdjusted R-squared:  0.08289 \n",
              "F-statistic: 81.03 on 2 and 1769 DF,  p-value: < 2.2e-16\n"
            ]
          },
          "metadata": {}
        }
      ]
    },
    {
      "cell_type": "markdown",
      "source": [
        "####**Iteración 2**\n",
        "A un cambio en el consumo de servicios adicionales en 1%, el consumo variará positivamente en un 38,32%. Mientras que, para las gigas consumidas, aparentemente la relación es inversa, indicando así que a medida que se aumente el consumo de gigas en 1%, el consumo variará negativamente en un 2,5%. No obstante, dado que las pruebas de significancia individual nos recomiendan no tener en muy en cuenta esta última variable, es interesante ver su comportamiento dentro del modelo.\n",
        "\n",
        "\n",
        "####**Iteración 4**\n",
        "A un cambio en el consumo de servicios adicionales en 1 unidad, el consumo variará positivamente en un 18%. Mientras que, para las gigas consumidas, aparentemente la relación es inversa, indicando así que a medida que se aumente el consumo de gigas en 1 unidad, el consumo variará negativamente en un 1,15%. No obstante, dado que las pruebas de significancia individual nos recomiendan no tener en muy en cuenta esta última variable, es interesante ver su comportamiento dentro del modelo.\n"
      ],
      "metadata": {
        "id": "vwk6DOCKom47"
      }
    },
    {
      "cell_type": "markdown",
      "source": [
        "####RECOMENDACIÓN PUNTOS 1 Y 2:\n",
        "Claudia, como la hábil estratega que es, al tener en cuenta que el consumo de servicios adicionales tiene una incidencia mayor que un incremento en las gigas adicionales en el consumo mensual de los clientes, podría diseñar un conjunto de estrategias encaminadas a lograr que sus clientes acepten usar **servicios adicionales** a los que comunmente acostumbran. Así, por cada servicio adicional que logre venderle a sus clientes, podría incrementar en cerca de 18% el consumo mensual de cada uno.\n",
        "\n",
        "Algunas ideas para que pueda desarrollar tales estrategias podría ser la oferta de \"paquetes de servicios\", en los cuales, mediante una propuesta atractiva, pueda combinar diferentes servicios ofrecidos por WOW y así estimular a sus consumidores a obtener más de un solo servicio de la compañía. Por otra parte, podría generar promociones para que, gracias al uso de un determinado servicio, los consumidores tengan descuentos especiales para la adquisición de otros, algo que podría ocasionar una mayor utilización de los servicios ofrecidos."
      ],
      "metadata": {
        "id": "kTaY819DpKiG"
      }
    },
    {
      "cell_type": "markdown",
      "source": [
        "##Punto 3. ¿Podría encontrarse una mejor explicación del consumo mensual si se incluyen todas las variables disponibles (categóricas y escalares) en el modelo?\n"
      ],
      "metadata": {
        "id": "b9ldE-zzpMpf"
      }
    },
    {
      "cell_type": "markdown",
      "source": [
        "Para el desarrollo de este punto vamos, en primer lugar, a desarrollar un modelo que incluya todas las variables (útiles) de nuestros datos disponibles, lo cual nos permitirá ver cuáles son aquellas variables que tienen una incidencia menor o mayor sobre el consumo de los servicios de WOW. Algo, que para Claudia será un insumo que le permitirá conocer más a sus clientes y la manera en que estos usan los servicios de la empresa para la que trabaja.\n",
        "\n",
        "Posterior a ello, desarrollaremos modelos usando aquellas variables que tienen una mayor incidencia en la explicación del consumo mensual y haremos las respectivas recomendaciones.\n",
        "\n",
        "\n"
      ],
      "metadata": {
        "id": "dyVNHFnlpeqN"
      }
    },
    {
      "cell_type": "code",
      "source": [
        "head(wow)"
      ],
      "metadata": {
        "colab": {
          "base_uri": "https://localhost:8080/",
          "height": 445
        },
        "id": "Ooi5AkEffNAW",
        "outputId": "8f6bbb5e-918b-458e-b4ff-deb1b207e172"
      },
      "execution_count": null,
      "outputs": [
        {
          "output_type": "display_data",
          "data": {
            "text/html": [
              "<table class=\"dataframe\">\n",
              "<caption>A data.frame: 6 × 16</caption>\n",
              "<thead>\n",
              "\t<tr><th></th><th scope=col>ID</th><th scope=col>tipoplan</th><th scope=col>churn</th><th scope=col>consumomes</th><th scope=col>Estrato</th><th scope=col>Sexo</th><th scope=col>Edad</th><th scope=col>EstadoCivil</th><th scope=col>Educacion</th><th scope=col>Recomienda</th><th scope=col>rango_antiguedad</th><th scope=col>servicio_adicional</th><th scope=col>gigas_cons</th><th scope=col>logconsumo</th><th scope=col>logservicios</th><th scope=col>loggigas</th></tr>\n",
              "\t<tr><th></th><th scope=col>&lt;int&gt;</th><th scope=col>&lt;chr&gt;</th><th scope=col>&lt;int&gt;</th><th scope=col>&lt;dbl&gt;</th><th scope=col>&lt;chr&gt;</th><th scope=col>&lt;chr&gt;</th><th scope=col>&lt;chr&gt;</th><th scope=col>&lt;chr&gt;</th><th scope=col>&lt;chr&gt;</th><th scope=col>&lt;chr&gt;</th><th scope=col>&lt;chr&gt;</th><th scope=col>&lt;int&gt;</th><th scope=col>&lt;dbl&gt;</th><th scope=col>&lt;dbl&gt;</th><th scope=col>&lt;dbl&gt;</th><th scope=col>&lt;dbl&gt;</th></tr>\n",
              "</thead>\n",
              "<tbody>\n",
              "\t<tr><th scope=row>1</th><td>1</td><td>Empresarial Ejecutivo  </td><td>1</td><td>378.645</td><td>1-2</td><td>Masculino</td><td>Menor a 25</td><td>Soltero/a </td><td>Profesional</td><td>Neutro       </td><td>250+    </td><td>3</td><td>14.3</td><td>5.936599</td><td>1.0986123</td><td>2.660260</td></tr>\n",
              "\t<tr><th scope=row>2</th><td>2</td><td>Empresarial Ejecutivo  </td><td>0</td><td>841.333</td><td>1-2</td><td>Masculino</td><td>Menor a 25</td><td>Soltero/a </td><td>Profesional</td><td>Neutro       </td><td>72 - 158</td><td>2</td><td>14.5</td><td>6.734988</td><td>0.6931472</td><td>2.674149</td></tr>\n",
              "\t<tr><th scope=row>3</th><td>3</td><td>Prepago                </td><td>1</td><td>861.967</td><td>3-4</td><td>Masculino</td><td>Menor a 25</td><td>Soltero/a </td><td>Técnico    </td><td>No recomienda</td><td>250+    </td><td>3</td><td>10.9</td><td>6.759217</td><td>1.0986123</td><td>2.388763</td></tr>\n",
              "\t<tr><th scope=row>4</th><td>4</td><td>Postpago cuenta control</td><td>1</td><td> 84.520</td><td>3-4</td><td>Masculino</td><td>Menor a 25</td><td>Soltero/a </td><td>Técnico    </td><td>No recomienda</td><td>250+    </td><td>4</td><td>19.0</td><td>4.436988</td><td>1.3862944</td><td>2.944439</td></tr>\n",
              "\t<tr><th scope=row>5</th><td>5</td><td>Postpago cuenta control</td><td>0</td><td>157.160</td><td>3-4</td><td>Masculino</td><td>Menor a 25</td><td>Separado/a</td><td>Profesional</td><td>Neutro       </td><td>250+    </td><td>1</td><td>13.1</td><td>5.057264</td><td>0.0000000</td><td>2.572612</td></tr>\n",
              "\t<tr><th scope=row>6</th><td>6</td><td>Empresarial Ejecutivo  </td><td>1</td><td>104.640</td><td>3-4</td><td>Masculino</td><td>Menor a 25</td><td>Casado/a  </td><td>Profesional</td><td>Recomienda   </td><td>250+    </td><td>4</td><td>24.7</td><td>4.650526</td><td>1.3862944</td><td>3.206803</td></tr>\n",
              "</tbody>\n",
              "</table>\n"
            ],
            "text/markdown": "\nA data.frame: 6 × 16\n\n| <!--/--> | ID &lt;int&gt; | tipoplan &lt;chr&gt; | churn &lt;int&gt; | consumomes &lt;dbl&gt; | Estrato &lt;chr&gt; | Sexo &lt;chr&gt; | Edad &lt;chr&gt; | EstadoCivil &lt;chr&gt; | Educacion &lt;chr&gt; | Recomienda &lt;chr&gt; | rango_antiguedad &lt;chr&gt; | servicio_adicional &lt;int&gt; | gigas_cons &lt;dbl&gt; | logconsumo &lt;dbl&gt; | logservicios &lt;dbl&gt; | loggigas &lt;dbl&gt; |\n|---|---|---|---|---|---|---|---|---|---|---|---|---|---|---|---|---|\n| 1 | 1 | Empresarial Ejecutivo   | 1 | 378.645 | 1-2 | Masculino | Menor a 25 | Soltero/a  | Profesional | Neutro        | 250+     | 3 | 14.3 | 5.936599 | 1.0986123 | 2.660260 |\n| 2 | 2 | Empresarial Ejecutivo   | 0 | 841.333 | 1-2 | Masculino | Menor a 25 | Soltero/a  | Profesional | Neutro        | 72 - 158 | 2 | 14.5 | 6.734988 | 0.6931472 | 2.674149 |\n| 3 | 3 | Prepago                 | 1 | 861.967 | 3-4 | Masculino | Menor a 25 | Soltero/a  | Técnico     | No recomienda | 250+     | 3 | 10.9 | 6.759217 | 1.0986123 | 2.388763 |\n| 4 | 4 | Postpago cuenta control | 1 |  84.520 | 3-4 | Masculino | Menor a 25 | Soltero/a  | Técnico     | No recomienda | 250+     | 4 | 19.0 | 4.436988 | 1.3862944 | 2.944439 |\n| 5 | 5 | Postpago cuenta control | 0 | 157.160 | 3-4 | Masculino | Menor a 25 | Separado/a | Profesional | Neutro        | 250+     | 1 | 13.1 | 5.057264 | 0.0000000 | 2.572612 |\n| 6 | 6 | Empresarial Ejecutivo   | 1 | 104.640 | 3-4 | Masculino | Menor a 25 | Casado/a   | Profesional | Recomienda    | 250+     | 4 | 24.7 | 4.650526 | 1.3862944 | 3.206803 |\n\n",
            "text/latex": "A data.frame: 6 × 16\n\\begin{tabular}{r|llllllllllllllll}\n  & ID & tipoplan & churn & consumomes & Estrato & Sexo & Edad & EstadoCivil & Educacion & Recomienda & rango\\_antiguedad & servicio\\_adicional & gigas\\_cons & logconsumo & logservicios & loggigas\\\\\n  & <int> & <chr> & <int> & <dbl> & <chr> & <chr> & <chr> & <chr> & <chr> & <chr> & <chr> & <int> & <dbl> & <dbl> & <dbl> & <dbl>\\\\\n\\hline\n\t1 & 1 & Empresarial Ejecutivo   & 1 & 378.645 & 1-2 & Masculino & Menor a 25 & Soltero/a  & Profesional & Neutro        & 250+     & 3 & 14.3 & 5.936599 & 1.0986123 & 2.660260\\\\\n\t2 & 2 & Empresarial Ejecutivo   & 0 & 841.333 & 1-2 & Masculino & Menor a 25 & Soltero/a  & Profesional & Neutro        & 72 - 158 & 2 & 14.5 & 6.734988 & 0.6931472 & 2.674149\\\\\n\t3 & 3 & Prepago                 & 1 & 861.967 & 3-4 & Masculino & Menor a 25 & Soltero/a  & Técnico     & No recomienda & 250+     & 3 & 10.9 & 6.759217 & 1.0986123 & 2.388763\\\\\n\t4 & 4 & Postpago cuenta control & 1 &  84.520 & 3-4 & Masculino & Menor a 25 & Soltero/a  & Técnico     & No recomienda & 250+     & 4 & 19.0 & 4.436988 & 1.3862944 & 2.944439\\\\\n\t5 & 5 & Postpago cuenta control & 0 & 157.160 & 3-4 & Masculino & Menor a 25 & Separado/a & Profesional & Neutro        & 250+     & 1 & 13.1 & 5.057264 & 0.0000000 & 2.572612\\\\\n\t6 & 6 & Empresarial Ejecutivo   & 1 & 104.640 & 3-4 & Masculino & Menor a 25 & Casado/a   & Profesional & Recomienda    & 250+     & 4 & 24.7 & 4.650526 & 1.3862944 & 3.206803\\\\\n\\end{tabular}\n",
            "text/plain": [
              "  ID tipoplan                churn consumomes Estrato Sexo      Edad      \n",
              "1 1  Empresarial Ejecutivo   1     378.645    1-2     Masculino Menor a 25\n",
              "2 2  Empresarial Ejecutivo   0     841.333    1-2     Masculino Menor a 25\n",
              "3 3  Prepago                 1     861.967    3-4     Masculino Menor a 25\n",
              "4 4  Postpago cuenta control 1      84.520    3-4     Masculino Menor a 25\n",
              "5 5  Postpago cuenta control 0     157.160    3-4     Masculino Menor a 25\n",
              "6 6  Empresarial Ejecutivo   1     104.640    3-4     Masculino Menor a 25\n",
              "  EstadoCivil Educacion   Recomienda    rango_antiguedad servicio_adicional\n",
              "1 Soltero/a   Profesional Neutro        250+             3                 \n",
              "2 Soltero/a   Profesional Neutro        72 - 158         2                 \n",
              "3 Soltero/a   Técnico     No recomienda 250+             3                 \n",
              "4 Soltero/a   Técnico     No recomienda 250+             4                 \n",
              "5 Separado/a  Profesional Neutro        250+             1                 \n",
              "6 Casado/a    Profesional Recomienda    250+             4                 \n",
              "  gigas_cons logconsumo logservicios loggigas\n",
              "1 14.3       5.936599   1.0986123    2.660260\n",
              "2 14.5       6.734988   0.6931472    2.674149\n",
              "3 10.9       6.759217   1.0986123    2.388763\n",
              "4 19.0       4.436988   1.3862944    2.944439\n",
              "5 13.1       5.057264   0.0000000    2.572612\n",
              "6 24.7       4.650526   1.3862944    3.206803"
            ]
          },
          "metadata": {}
        }
      ]
    },
    {
      "cell_type": "code",
      "source": [
        "wow$tipoplan<-as.factor(wow$tipoplan)\n",
        "wow$Estrato<-as.factor(wow$Estrato)\n",
        "wow$Sexo<-as.factor(wow$Sexo)\n",
        "wow$Edad<-as.factor(wow$Edad)\n",
        "wow$EstadoCivil<-as.factor(wow$EstadoCivil)\n",
        "wow$Educacion<-as.factor(wow$Educacion)\n",
        "wow$Recomienda<-as.factor(wow$Recomienda)\n",
        "wow$rango_antiguedad<-as.factor(wow$rango_antiguedad)\n"
      ],
      "metadata": {
        "id": "EI7-y1J73LxC"
      },
      "execution_count": null,
      "outputs": []
    },
    {
      "cell_type": "code",
      "source": [
        "mod9tod_var<-lm(consumomes ~ .-ID -consumomes -gigas_cons -logconsumo -loggigas -logservicios,data=wow)\n",
        "summary(mod9tod_var)"
      ],
      "metadata": {
        "colab": {
          "base_uri": "https://localhost:8080/",
          "height": 763
        },
        "id": "UfNaDZ1ofUhP",
        "outputId": "d6318c60-e4e6-4039-976c-d927657c974f"
      },
      "execution_count": null,
      "outputs": [
        {
          "output_type": "display_data",
          "data": {
            "text/plain": [
              "\n",
              "Call:\n",
              "lm(formula = consumomes ~ . - ID - consumomes - gigas_cons - \n",
              "    logconsumo - loggigas - logservicios, data = wow)\n",
              "\n",
              "Residuals:\n",
              "    Min      1Q  Median      3Q     Max \n",
              "-476.53 -113.87  -56.49   39.53  818.41 \n",
              "\n",
              "Coefficients:\n",
              "                                Estimate Std. Error t value Pr(>|t|)    \n",
              "(Intercept)                      265.367     50.661   5.238 1.82e-07 ***\n",
              "tipoplanEmpresarial Ejecutivo   -122.267     44.848  -2.726  0.00647 ** \n",
              "tipoplanPostpago abierto         224.341     70.377   3.188  0.00146 ** \n",
              "tipoplanPostpago cuenta control -149.369     45.201  -3.305  0.00097 ***\n",
              "tipoplanPrepago                 -140.655     45.678  -3.079  0.00211 ** \n",
              "churn                             21.732      8.992   2.417  0.01575 *  \n",
              "Estrato1-2                       -18.833     15.943  -1.181  0.23765    \n",
              "Estrato3-4                       -11.133     16.330  -0.682  0.49549    \n",
              "Estrato5-6                       -10.291     30.979  -0.332  0.73978    \n",
              "SexoMasculino                     -4.709      9.320  -0.505  0.61341    \n",
              "EdadMayor a 45                   -11.590     18.129  -0.639  0.52273    \n",
              "EdadMenor a 25                    -6.554      9.849  -0.665  0.50583    \n",
              "EstadoCivilDivorciado/a           -7.682     20.179  -0.381  0.70348    \n",
              "EstadoCivilSeparado/a             -5.411     23.630  -0.229  0.81891    \n",
              "EstadoCivilSoltero/a               4.043     10.006   0.404  0.68619    \n",
              "EstadoCivilViudo‎/a                -1.855    110.110  -0.017  0.98656    \n",
              "EducacionPosgrado                 12.545     15.170   0.827  0.40839    \n",
              "EducacionProfesional             -11.639     10.636  -1.094  0.27396    \n",
              "EducacionTécnico                 -31.364     23.129  -1.356  0.17527    \n",
              "EducacionTecnólogo                23.467     32.570   0.721  0.47130    \n",
              "RecomiendaNo recomienda            8.466     13.686   0.619  0.53626    \n",
              "RecomiendaRecomienda              12.866     10.343   1.244  0.21369    \n",
              "rango_antiguedad159 - 249         -6.993     13.422  -0.521  0.60244    \n",
              "rango_antiguedad250+              21.818     13.908   1.569  0.11690    \n",
              "rango_antiguedad72 - 158          -9.788     12.779  -0.766  0.44379    \n",
              "servicio_adicional                36.213      3.967   9.129  < 2e-16 ***\n",
              "---\n",
              "Signif. codes:  0 ‘***’ 0.001 ‘**’ 0.01 ‘*’ 0.05 ‘.’ 0.1 ‘ ’ 1\n",
              "\n",
              "Residual standard error: 186.9 on 1746 degrees of freedom\n",
              "Multiple R-squared:  0.1041,\tAdjusted R-squared:  0.09127 \n",
              "F-statistic: 8.115 on 25 and 1746 DF,  p-value: < 2.2e-16\n"
            ]
          },
          "metadata": {}
        }
      ]
    },
    {
      "cell_type": "markdown",
      "source": [
        "####Diagnósticos básicos\n",
        "####Significancia Global\n",
        "La prueba de significancia global \"F-statistic\" sugiere, para este modelo, que el p-value es menor que alfa, de modo que, el modelo ajusta los datos.\n",
        "\n",
        "####Significancia Individual\n",
        "Las pruebas de significancia individual nos muestran que aquellas variables que aportan en nuestro modelo y sirven para explicar el consumo son: **tipo de plan**,**churn** y **servicio_adicional**. Esto, debido a que los p-valores arrojados por la prueba, para las tres variables, son menores al valor del alfa 0.05. Por lo tanto, rechazamos hipótesis nula (la variable no aporta), aceptamos hipótesis alterna y afirmamos que las variables sí aportan dentro del modelo.\n",
        "\n",
        "####Coeficiente de determinación R cuadrado\n",
        "\n",
        "El Coeficiente de determinación R cuadrado mostró, para el modelo \"mod9tod_var\", que las variables usadas explican el consumo en un 10,41% de su variabilidad. El restante 89,9% corresponde a los factores no medidos y no observados \"ε\".\n",
        "\n"
      ],
      "metadata": {
        "id": "PtqWlqnS4_Mj"
      }
    },
    {
      "cell_type": "markdown",
      "source": [
        "**Vamos a iterar el modelo esta vez usando solamente las variables que aportan al modelo para, de esta manera, estimar un modelo sin datos irrelevantes.**"
      ],
      "metadata": {
        "id": "vDWYKPhJLKEA"
      }
    },
    {
      "cell_type": "code",
      "source": [
        "mod10<-lm(consumomes ~ tipoplan+ churn + servicio_adicional, data=wow)\n",
        "summary(mod10)"
      ],
      "metadata": {
        "colab": {
          "base_uri": "https://localhost:8080/",
          "height": 433
        },
        "id": "TevwC6lehAip",
        "outputId": "e66141b4-fadc-4d35-d987-77f20fe244dd"
      },
      "execution_count": null,
      "outputs": [
        {
          "output_type": "display_data",
          "data": {
            "text/plain": [
              "\n",
              "Call:\n",
              "lm(formula = consumomes ~ tipoplan + churn + servicio_adicional, \n",
              "    data = wow)\n",
              "\n",
              "Residuals:\n",
              "    Min      1Q  Median      3Q     Max \n",
              "-467.44 -115.24  -57.94   36.41  803.52 \n",
              "\n",
              "Coefficients:\n",
              "                                Estimate Std. Error t value Pr(>|t|)    \n",
              "(Intercept)                      245.455     45.629   5.379 8.48e-08 ***\n",
              "tipoplanEmpresarial Ejecutivo   -122.529     44.552  -2.750  0.00602 ** \n",
              "tipoplanPostpago abierto         222.712     69.797   3.191  0.00144 ** \n",
              "tipoplanPostpago cuenta control -145.551     44.862  -3.244  0.00120 ** \n",
              "tipoplanPrepago                 -138.100     45.337  -3.046  0.00235 ** \n",
              "churn                             21.795      8.962   2.432  0.01512 *  \n",
              "servicio_adicional                38.796      3.594  10.795  < 2e-16 ***\n",
              "---\n",
              "Signif. codes:  0 ‘***’ 0.001 ‘**’ 0.01 ‘*’ 0.05 ‘.’ 0.1 ‘ ’ 1\n",
              "\n",
              "Residual standard error: 186.8 on 1765 degrees of freedom\n",
              "Multiple R-squared:  0.09498,\tAdjusted R-squared:  0.09191 \n",
              "F-statistic: 30.87 on 6 and 1765 DF,  p-value: < 2.2e-16\n"
            ]
          },
          "metadata": {}
        }
      ]
    },
    {
      "cell_type": "markdown",
      "source": [
        "\n",
        "####Diagnósticos básicos\n",
        "####Significancia Global\n",
        "La prueba de significancia global \"F-statistic\" sugiere, para este modelo, que el p-value es menor que alfa, de modo que, el modelo ajusta los datos.\n",
        "\n",
        "####Significancia Individual\n",
        "\n",
        "\n",
        "####Coeficiente de determinación R cuadrado\n",
        "\n",
        "El Coeficiente de determinación R cuadrado mostró, para el modelo \"mod9tod_var\", que las variables usadas explican el consumo en un 10,41% de su variabilidad. El restante 89,9% corresponde a los factores no medidos y no observados \"ε\".\n",
        "\n"
      ],
      "metadata": {
        "id": "IqUIZPcbVA5V"
      }
    }
  ]
}